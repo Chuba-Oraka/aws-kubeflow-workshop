{
 "cells": [
  {
   "cell_type": "markdown",
   "metadata": {},
   "source": [
    "# Kubeflow Fairing Introduction\n",
    "\n",
    "Kubeflow Fairing is a Python package that streamlines the process of `building`, `training`, and `deploying` machine learning (ML) models in a hybrid cloud environment. By using Kubeflow Fairing and adding a few lines of code, you can run your ML training job locally or in the cloud, directly from Python code or a Jupyter notebook. After your training job is complete, you can use Kubeflow Fairing to deploy your trained model as a prediction endpoint.\n",
    "\n",
    "\n",
    "# How does Kubeflow Fairing work\n",
    "\n",
    "Kubeflow Fairing \n",
    "1. Packages your Jupyter notebook, Python function, or Python file as a Docker image\n",
    "2. Deploys and runs the training job on Kubeflow or AI Platform. \n",
    "3. Deploy your trained model as a prediction endpoint on Kubeflow after your training job is complete.\n",
    "\n",
    "\n",
    "# Goals of Kubeflow Fairing project\n",
    "\n",
    "- Easily package ML training jobs: Enable ML practitioners to easily package their ML model training code, and their code’s dependencies, as a Docker image.\n",
    "- Easily train ML models in a hybrid cloud environment: Provide a high-level API for training ML models to make it easy to run training jobs in the cloud, without needing to understand the underlying infrastructure.\n",
    "- Streamline the process of deploying a trained model: Make it easy for ML practitioners to deploy trained ML models to a hybrid cloud environment."
   ]
  },
  {
   "cell_type": "markdown",
   "metadata": {},
   "source": [
    "## Train and deploy model on Kubeflow in Notebooks\n",
    "\n",
    "This examples comes from a upstream fairing [example](https://github.com/kubeflow/fairing/tree/master/examples/prediction).\n",
    "\n",
    "\n",
    "Please check Kaggle competiton [\n",
    "House Prices: Advanced Regression Techniques](https://www.kaggle.com/c/house-prices-advanced-regression-techniques)\n",
    "for details about the ML problem we want to resolve.\n",
    "\n",
    "This notebook introduces you to using Kubeflow Fairing to train and deploy a model to Kubeflow on Amazon EKS. This notebook demonstrate how to:\n",
    "\n",
    "* Train an XGBoost model in a local notebook,\n",
    "* Use Kubeflow Fairing to train an XGBoost model remotely on Kubeflow,\n",
    "* Use Kubeflow Fairing to deploy a trained model to Kubeflow,\n",
    "* Call the deployed endpoint for predictions.\n"
   ]
  },
  {
   "cell_type": "markdown",
   "metadata": {},
   "source": [
    "### Install python dependencies"
   ]
  },
  {
   "cell_type": "code",
   "execution_count": 1,
   "metadata": {},
   "outputs": [
    {
     "name": "stdout",
     "output_type": "stream",
     "text": [
      "fatal: destination path 'fairing' already exists and is not an empty directory.\n",
      "Processing ./fairing\n",
      "Requirement already satisfied, skipping upgrade: python-dateutil<=2.8.0,>=2.1 in /opt/conda/lib/python3.6/site-packages (from kubeflow-fairing==0.7.1) (2.8.0)\n",
      "Requirement already satisfied, skipping upgrade: numpy>=1.17.3 in /opt/conda/lib/python3.6/site-packages (from kubeflow-fairing==0.7.1) (1.18.1)\n",
      "Requirement already satisfied, skipping upgrade: kfserving>=0.2.1.1 in /opt/conda/lib/python3.6/site-packages (from kubeflow-fairing==0.7.1) (0.2.2.1)\n",
      "Requirement already satisfied, skipping upgrade: docker>=3.4.1 in /opt/conda/lib/python3.6/site-packages (from kubeflow-fairing==0.7.1) (4.1.0)\n",
      "Requirement already satisfied, skipping upgrade: notebook>=5.6.0 in /opt/conda/lib/python3.6/site-packages (from kubeflow-fairing==0.7.1) (6.0.3)\n",
      "Requirement already satisfied, skipping upgrade: kubernetes>=10.0.1 in /opt/conda/lib/python3.6/site-packages (from kubeflow-fairing==0.7.1) (10.0.1)\n",
      "Requirement already satisfied, skipping upgrade: future>=0.17.1 in /opt/conda/lib/python3.6/site-packages (from kubeflow-fairing==0.7.1) (0.18.2)\n",
      "Requirement already satisfied, skipping upgrade: six>=1.11.0 in /opt/conda/lib/python3.6/site-packages (from kubeflow-fairing==0.7.1) (1.11.0)\n",
      "Requirement already satisfied, skipping upgrade: google-cloud-storage>=1.13.2 in /opt/conda/lib/python3.6/site-packages (from kubeflow-fairing==0.7.1) (1.25.0)\n",
      "Requirement already satisfied, skipping upgrade: google-cloud-logging>=1.13.0 in /opt/conda/lib/python3.6/site-packages (from kubeflow-fairing==0.7.1) (1.14.0)\n",
      "Requirement already satisfied, skipping upgrade: requests>=2.21.0 in /opt/conda/lib/python3.6/site-packages (from kubeflow-fairing==0.7.1) (2.22.0)\n",
      "Requirement already satisfied, skipping upgrade: setuptools>=34.0.0 in /opt/conda/lib/python3.6/site-packages (from kubeflow-fairing==0.7.1) (45.1.0)\n",
      "Requirement already satisfied, skipping upgrade: google-auth>=1.6.2 in /opt/conda/lib/python3.6/site-packages (from kubeflow-fairing==0.7.1) (1.11.0)\n",
      "Requirement already satisfied, skipping upgrade: httplib2>=0.12.0 in /opt/conda/lib/python3.6/site-packages (from kubeflow-fairing==0.7.1) (0.12.0)\n",
      "Requirement already satisfied, skipping upgrade: oauth2client>=4.0.0 in /opt/conda/lib/python3.6/site-packages (from kubeflow-fairing==0.7.1) (4.1.3)\n",
      "Requirement already satisfied, skipping upgrade: tornado>=6.0.1 in /opt/conda/lib/python3.6/site-packages (from kubeflow-fairing==0.7.1) (6.0.3)\n",
      "Requirement already satisfied, skipping upgrade: google-api-python-client>=1.7.8 in /opt/conda/lib/python3.6/site-packages (from kubeflow-fairing==0.7.1) (1.7.11)\n",
      "Requirement already satisfied, skipping upgrade: cloudpickle>=0.8 in /opt/conda/lib/python3.6/site-packages (from kubeflow-fairing==0.7.1) (1.2.2)\n",
      "Requirement already satisfied, skipping upgrade: urllib3==1.24.2 in /opt/conda/lib/python3.6/site-packages (from kubeflow-fairing==0.7.1) (1.24.2)\n",
      "Requirement already satisfied, skipping upgrade: boto3>=1.9.0 in /opt/conda/lib/python3.6/site-packages (from kubeflow-fairing==0.7.1) (1.11.8)\n",
      "Requirement already satisfied, skipping upgrade: azure>=4.0.0 in /opt/conda/lib/python3.6/site-packages (from kubeflow-fairing==0.7.1) (4.0.0)\n",
      "Requirement already satisfied, skipping upgrade: retrying>=1.3.3 in /opt/conda/lib/python3.6/site-packages (from kubeflow-fairing==0.7.1) (1.3.3)\n",
      "Requirement already satisfied, skipping upgrade: kubeflow-tfjob>=0.1.1 in /opt/conda/lib/python3.6/site-packages (from kubeflow-fairing==0.7.1) (0.1.3)\n",
      "Requirement already satisfied, skipping upgrade: kubeflow-pytorchjob>=0.1.1 in /opt/conda/lib/python3.6/site-packages (from kubeflow-fairing==0.7.1) (0.1.3)\n",
      "Requirement already satisfied, skipping upgrade: minio>=4.0.9 in /opt/conda/lib/python3.6/site-packages (from kfserving>=0.2.1.1->kubeflow-fairing==0.7.1) (5.0.6)\n",
      "Requirement already satisfied, skipping upgrade: table-logger>=0.3.5 in /opt/conda/lib/python3.6/site-packages (from kfserving>=0.2.1.1->kubeflow-fairing==0.7.1) (0.3.6)\n",
      "Requirement already satisfied, skipping upgrade: certifi>=14.05.14 in /opt/conda/lib/python3.6/site-packages (from kfserving>=0.2.1.1->kubeflow-fairing==0.7.1) (2019.3.9)\n",
      "Requirement already satisfied, skipping upgrade: azure-storage-blob<=2.1.0,>=1.3.0 in /opt/conda/lib/python3.6/site-packages (from kfserving>=0.2.1.1->kubeflow-fairing==0.7.1) (2.1.0)\n",
      "Requirement already satisfied, skipping upgrade: argparse>=1.4.0 in /opt/conda/lib/python3.6/site-packages (from kfserving>=0.2.1.1->kubeflow-fairing==0.7.1) (1.4.0)\n",
      "Requirement already satisfied, skipping upgrade: adal>=1.2.2 in /opt/conda/lib/python3.6/site-packages (from kfserving>=0.2.1.1->kubeflow-fairing==0.7.1) (1.2.2)\n",
      "Requirement already satisfied, skipping upgrade: websocket-client>=0.32.0 in /opt/conda/lib/python3.6/site-packages (from docker>=3.4.1->kubeflow-fairing==0.7.1) (0.57.0)\n",
      "Requirement already satisfied, skipping upgrade: ipykernel in /opt/conda/lib/python3.6/site-packages (from notebook>=5.6.0->kubeflow-fairing==0.7.1) (5.1.3)\n",
      "Requirement already satisfied, skipping upgrade: Send2Trash in /opt/conda/lib/python3.6/site-packages (from notebook>=5.6.0->kubeflow-fairing==0.7.1) (1.5.0)\n",
      "Requirement already satisfied, skipping upgrade: traitlets>=4.2.1 in /opt/conda/lib/python3.6/site-packages (from notebook>=5.6.0->kubeflow-fairing==0.7.1) (4.3.3)\n",
      "Requirement already satisfied, skipping upgrade: jinja2 in /opt/conda/lib/python3.6/site-packages (from notebook>=5.6.0->kubeflow-fairing==0.7.1) (2.10.3)\n",
      "Requirement already satisfied, skipping upgrade: jupyter-core>=4.6.1 in /opt/conda/lib/python3.6/site-packages (from notebook>=5.6.0->kubeflow-fairing==0.7.1) (4.6.1)\n",
      "Requirement already satisfied, skipping upgrade: pyzmq>=17 in /opt/conda/lib/python3.6/site-packages (from notebook>=5.6.0->kubeflow-fairing==0.7.1) (18.1.1)\n",
      "Requirement already satisfied, skipping upgrade: prometheus-client in /opt/conda/lib/python3.6/site-packages (from notebook>=5.6.0->kubeflow-fairing==0.7.1) (0.7.1)\n",
      "Requirement already satisfied, skipping upgrade: terminado>=0.8.1 in /opt/conda/lib/python3.6/site-packages (from notebook>=5.6.0->kubeflow-fairing==0.7.1) (0.8.3)\n",
      "Requirement already satisfied, skipping upgrade: ipython-genutils in /opt/conda/lib/python3.6/site-packages (from notebook>=5.6.0->kubeflow-fairing==0.7.1) (0.2.0)\n",
      "Requirement already satisfied, skipping upgrade: nbformat in /opt/conda/lib/python3.6/site-packages (from notebook>=5.6.0->kubeflow-fairing==0.7.1) (5.0.4)\n",
      "Requirement already satisfied, skipping upgrade: nbconvert in /opt/conda/lib/python3.6/site-packages (from notebook>=5.6.0->kubeflow-fairing==0.7.1) (5.6.1)\n",
      "Requirement already satisfied, skipping upgrade: jupyter-client>=5.3.4 in /opt/conda/lib/python3.6/site-packages (from notebook>=5.6.0->kubeflow-fairing==0.7.1) (5.3.4)\n",
      "Requirement already satisfied, skipping upgrade: pyyaml>=3.12 in /opt/conda/lib/python3.6/site-packages (from kubernetes>=10.0.1->kubeflow-fairing==0.7.1) (5.2)\n",
      "Requirement already satisfied, skipping upgrade: requests-oauthlib in /opt/conda/lib/python3.6/site-packages (from kubernetes>=10.0.1->kubeflow-fairing==0.7.1) (1.3.0)\n",
      "Requirement already satisfied, skipping upgrade: google-cloud-core<2.0dev,>=1.2.0 in /opt/conda/lib/python3.6/site-packages (from google-cloud-storage>=1.13.2->kubeflow-fairing==0.7.1) (1.2.0)\n",
      "Requirement already satisfied, skipping upgrade: google-resumable-media<0.6dev,>=0.5.0 in /opt/conda/lib/python3.6/site-packages (from google-cloud-storage>=1.13.2->kubeflow-fairing==0.7.1) (0.5.0)\n",
      "Requirement already satisfied, skipping upgrade: google-api-core[grpc]<2.0.0dev,>=1.14.0 in /opt/conda/lib/python3.6/site-packages (from google-cloud-logging>=1.13.0->kubeflow-fairing==0.7.1) (1.16.0)\n",
      "Requirement already satisfied, skipping upgrade: chardet<3.1.0,>=3.0.2 in /opt/conda/lib/python3.6/site-packages (from requests>=2.21.0->kubeflow-fairing==0.7.1) (3.0.4)\n",
      "Requirement already satisfied, skipping upgrade: idna<2.9,>=2.5 in /opt/conda/lib/python3.6/site-packages (from requests>=2.21.0->kubeflow-fairing==0.7.1) (2.6)\n",
      "Requirement already satisfied, skipping upgrade: rsa<4.1,>=3.1.4 in /opt/conda/lib/python3.6/site-packages (from google-auth>=1.6.2->kubeflow-fairing==0.7.1) (3.4.2)\n",
      "Requirement already satisfied, skipping upgrade: cachetools<5.0,>=2.0.0 in /opt/conda/lib/python3.6/site-packages (from google-auth>=1.6.2->kubeflow-fairing==0.7.1) (3.1.1)\n",
      "Requirement already satisfied, skipping upgrade: pyasn1-modules>=0.2.1 in /opt/conda/lib/python3.6/site-packages (from google-auth>=1.6.2->kubeflow-fairing==0.7.1) (0.2.8)\n",
      "Requirement already satisfied, skipping upgrade: pyasn1>=0.1.7 in /opt/conda/lib/python3.6/site-packages (from oauth2client>=4.0.0->kubeflow-fairing==0.7.1) (0.4.8)\n",
      "Requirement already satisfied, skipping upgrade: google-auth-httplib2>=0.0.3 in /opt/conda/lib/python3.6/site-packages (from google-api-python-client>=1.7.8->kubeflow-fairing==0.7.1) (0.0.3)\n",
      "Requirement already satisfied, skipping upgrade: uritemplate<4dev,>=3.0.0 in /opt/conda/lib/python3.6/site-packages (from google-api-python-client>=1.7.8->kubeflow-fairing==0.7.1) (3.0.1)\n",
      "Requirement already satisfied, skipping upgrade: botocore<1.15.0,>=1.14.8 in /opt/conda/lib/python3.6/site-packages (from boto3>=1.9.0->kubeflow-fairing==0.7.1) (1.14.8)\n",
      "Requirement already satisfied, skipping upgrade: jmespath<1.0.0,>=0.7.1 in /opt/conda/lib/python3.6/site-packages (from boto3>=1.9.0->kubeflow-fairing==0.7.1) (0.9.4)\n",
      "Requirement already satisfied, skipping upgrade: s3transfer<0.4.0,>=0.3.0 in /opt/conda/lib/python3.6/site-packages (from boto3>=1.9.0->kubeflow-fairing==0.7.1) (0.3.2)\n",
      "Requirement already satisfied, skipping upgrade: azure-servicebus~=0.21.1 in /opt/conda/lib/python3.6/site-packages (from azure>=4.0.0->kubeflow-fairing==0.7.1) (0.21.1)\n",
      "Requirement already satisfied, skipping upgrade: azure-storage-queue~=1.3 in /opt/conda/lib/python3.6/site-packages (from azure>=4.0.0->kubeflow-fairing==0.7.1) (1.4.0)\n",
      "Requirement already satisfied, skipping upgrade: azure-batch~=4.1 in /opt/conda/lib/python3.6/site-packages (from azure>=4.0.0->kubeflow-fairing==0.7.1) (4.1.3)\n"
     ]
    },
    {
     "name": "stdout",
     "output_type": "stream",
     "text": [
      "Requirement already satisfied, skipping upgrade: azure-keyvault~=1.0 in /opt/conda/lib/python3.6/site-packages (from azure>=4.0.0->kubeflow-fairing==0.7.1) (1.1.0)\n",
      "Requirement already satisfied, skipping upgrade: azure-storage-file~=1.3 in /opt/conda/lib/python3.6/site-packages (from azure>=4.0.0->kubeflow-fairing==0.7.1) (1.4.0)\n",
      "Requirement already satisfied, skipping upgrade: azure-datalake-store~=0.0.18 in /opt/conda/lib/python3.6/site-packages (from azure>=4.0.0->kubeflow-fairing==0.7.1) (0.0.48)\n",
      "Requirement already satisfied, skipping upgrade: azure-loganalytics~=0.1.0 in /opt/conda/lib/python3.6/site-packages (from azure>=4.0.0->kubeflow-fairing==0.7.1) (0.1.0)\n",
      "Requirement already satisfied, skipping upgrade: azure-graphrbac~=0.40.0 in /opt/conda/lib/python3.6/site-packages (from azure>=4.0.0->kubeflow-fairing==0.7.1) (0.40.0)\n",
      "Requirement already satisfied, skipping upgrade: azure-servicefabric~=6.3.0.0 in /opt/conda/lib/python3.6/site-packages (from azure>=4.0.0->kubeflow-fairing==0.7.1) (6.3.0.0)\n",
      "Requirement already satisfied, skipping upgrade: azure-cosmosdb-table~=1.0 in /opt/conda/lib/python3.6/site-packages (from azure>=4.0.0->kubeflow-fairing==0.7.1) (1.0.6)\n",
      "Requirement already satisfied, skipping upgrade: azure-applicationinsights~=0.1.0 in /opt/conda/lib/python3.6/site-packages (from azure>=4.0.0->kubeflow-fairing==0.7.1) (0.1.0)\n",
      "Requirement already satisfied, skipping upgrade: azure-servicemanagement-legacy~=0.20.6 in /opt/conda/lib/python3.6/site-packages (from azure>=4.0.0->kubeflow-fairing==0.7.1) (0.20.6)\n",
      "Requirement already satisfied, skipping upgrade: azure-eventgrid~=1.1 in /opt/conda/lib/python3.6/site-packages (from azure>=4.0.0->kubeflow-fairing==0.7.1) (1.3.0)\n",
      "Requirement already satisfied, skipping upgrade: azure-mgmt~=4.0 in /opt/conda/lib/python3.6/site-packages (from azure>=4.0.0->kubeflow-fairing==0.7.1) (4.0.0)\n",
      "Requirement already satisfied, skipping upgrade: pytz in /opt/conda/lib/python3.6/site-packages (from minio>=4.0.9->kfserving>=0.2.1.1->kubeflow-fairing==0.7.1) (2019.3)\n",
      "Requirement already satisfied, skipping upgrade: azure-storage-common~=2.1 in /opt/conda/lib/python3.6/site-packages (from azure-storage-blob<=2.1.0,>=1.3.0->kfserving>=0.2.1.1->kubeflow-fairing==0.7.1) (2.1.0)\n",
      "Requirement already satisfied, skipping upgrade: azure-common>=1.1.5 in /opt/conda/lib/python3.6/site-packages (from azure-storage-blob<=2.1.0,>=1.3.0->kfserving>=0.2.1.1->kubeflow-fairing==0.7.1) (1.1.24)\n",
      "Requirement already satisfied, skipping upgrade: cryptography>=1.1.0 in /opt/conda/lib/python3.6/site-packages (from adal>=1.2.2->kfserving>=0.2.1.1->kubeflow-fairing==0.7.1) (2.4.2)\n",
      "Requirement already satisfied, skipping upgrade: PyJWT>=1.0.0 in /opt/conda/lib/python3.6/site-packages (from adal>=1.2.2->kfserving>=0.2.1.1->kubeflow-fairing==0.7.1) (1.6.4)\n",
      "Requirement already satisfied, skipping upgrade: ipython>=5.0.0 in /opt/conda/lib/python3.6/site-packages (from ipykernel->notebook>=5.6.0->kubeflow-fairing==0.7.1) (7.11.1)\n",
      "Requirement already satisfied, skipping upgrade: decorator in /opt/conda/lib/python3.6/site-packages (from traitlets>=4.2.1->notebook>=5.6.0->kubeflow-fairing==0.7.1) (4.4.1)\n",
      "Requirement already satisfied, skipping upgrade: MarkupSafe>=0.23 in /opt/conda/lib/python3.6/site-packages (from jinja2->notebook>=5.6.0->kubeflow-fairing==0.7.1) (1.1.1)\n",
      "Requirement already satisfied, skipping upgrade: ptyprocess; os_name != \"nt\" in /opt/conda/lib/python3.6/site-packages (from terminado>=0.8.1->notebook>=5.6.0->kubeflow-fairing==0.7.1) (0.6.0)\n",
      "Requirement already satisfied, skipping upgrade: jsonschema!=2.5.0,>=2.4 in /opt/conda/lib/python3.6/site-packages (from nbformat->notebook>=5.6.0->kubeflow-fairing==0.7.1) (3.2.0)\n",
      "Requirement already satisfied, skipping upgrade: defusedxml in /opt/conda/lib/python3.6/site-packages (from nbconvert->notebook>=5.6.0->kubeflow-fairing==0.7.1) (0.6.0)\n",
      "Requirement already satisfied, skipping upgrade: entrypoints>=0.2.2 in /opt/conda/lib/python3.6/site-packages (from nbconvert->notebook>=5.6.0->kubeflow-fairing==0.7.1) (0.3)\n",
      "Requirement already satisfied, skipping upgrade: testpath in /opt/conda/lib/python3.6/site-packages (from nbconvert->notebook>=5.6.0->kubeflow-fairing==0.7.1) (0.4.4)\n",
      "Requirement already satisfied, skipping upgrade: pygments in /opt/conda/lib/python3.6/site-packages (from nbconvert->notebook>=5.6.0->kubeflow-fairing==0.7.1) (2.5.2)\n",
      "Requirement already satisfied, skipping upgrade: pandocfilters>=1.4.1 in /opt/conda/lib/python3.6/site-packages (from nbconvert->notebook>=5.6.0->kubeflow-fairing==0.7.1) (1.4.2)\n",
      "Requirement already satisfied, skipping upgrade: bleach in /opt/conda/lib/python3.6/site-packages (from nbconvert->notebook>=5.6.0->kubeflow-fairing==0.7.1) (3.1.0)\n",
      "Requirement already satisfied, skipping upgrade: mistune<2,>=0.8.1 in /opt/conda/lib/python3.6/site-packages (from nbconvert->notebook>=5.6.0->kubeflow-fairing==0.7.1) (0.8.4)\n",
      "Requirement already satisfied, skipping upgrade: oauthlib>=3.0.0 in /opt/conda/lib/python3.6/site-packages (from requests-oauthlib->kubernetes>=10.0.1->kubeflow-fairing==0.7.1) (3.1.0)\n",
      "Requirement already satisfied, skipping upgrade: protobuf>=3.4.0 in /opt/conda/lib/python3.6/site-packages (from google-api-core[grpc]<2.0.0dev,>=1.14.0->google-cloud-logging>=1.13.0->kubeflow-fairing==0.7.1) (3.11.2)\n",
      "Requirement already satisfied, skipping upgrade: googleapis-common-protos<2.0dev,>=1.6.0 in /opt/conda/lib/python3.6/site-packages (from google-api-core[grpc]<2.0.0dev,>=1.14.0->google-cloud-logging>=1.13.0->kubeflow-fairing==0.7.1) (1.51.0)\n",
      "Requirement already satisfied, skipping upgrade: grpcio<2.0dev,>=1.8.2; extra == \"grpc\" in /opt/conda/lib/python3.6/site-packages (from google-api-core[grpc]<2.0.0dev,>=1.14.0->google-cloud-logging>=1.13.0->kubeflow-fairing==0.7.1) (1.26.0)\n",
      "Requirement already satisfied, skipping upgrade: docutils<0.16,>=0.10 in /opt/conda/lib/python3.6/site-packages (from botocore<1.15.0,>=1.14.8->boto3>=1.9.0->kubeflow-fairing==0.7.1) (0.15.2)\n",
      "Requirement already satisfied, skipping upgrade: azure-nspkg>=2.0.0 in /opt/conda/lib/python3.6/site-packages (from azure-servicebus~=0.21.1->azure>=4.0.0->kubeflow-fairing==0.7.1) (3.0.2)\n",
      "Requirement already satisfied, skipping upgrade: msrestazure<2.0.0,>=0.4.20 in /opt/conda/lib/python3.6/site-packages (from azure-batch~=4.1->azure>=4.0.0->kubeflow-fairing==0.7.1) (0.6.2)\n",
      "Requirement already satisfied, skipping upgrade: msrest>=0.5.0 in /opt/conda/lib/python3.6/site-packages (from azure-keyvault~=1.0->azure>=4.0.0->kubeflow-fairing==0.7.1) (0.6.10)\n",
      "Requirement already satisfied, skipping upgrade: cffi in /opt/conda/lib/python3.6/site-packages (from azure-datalake-store~=0.0.18->azure>=4.0.0->kubeflow-fairing==0.7.1) (1.11.5)\n",
      "Requirement already satisfied, skipping upgrade: azure-cosmosdb-nspkg>=2.0.0 in /opt/conda/lib/python3.6/site-packages (from azure-cosmosdb-table~=1.0->azure>=4.0.0->kubeflow-fairing==0.7.1) (2.0.2)\n",
      "Requirement already satisfied, skipping upgrade: azure-mgmt-containerregistry~=2.1 in /opt/conda/lib/python3.6/site-packages (from azure-mgmt~=4.0->azure>=4.0.0->kubeflow-fairing==0.7.1) (2.8.0)\n",
      "Requirement already satisfied, skipping upgrade: azure-mgmt-batchai~=2.0 in /opt/conda/lib/python3.6/site-packages (from azure-mgmt~=4.0->azure>=4.0.0->kubeflow-fairing==0.7.1) (2.0.0)\n",
      "Requirement already satisfied, skipping upgrade: azure-mgmt-msi~=0.2.0 in /opt/conda/lib/python3.6/site-packages (from azure-mgmt~=4.0->azure>=4.0.0->kubeflow-fairing==0.7.1) (0.2.0)\n",
      "Requirement already satisfied, skipping upgrade: azure-mgmt-authorization~=0.50.0 in /opt/conda/lib/python3.6/site-packages (from azure-mgmt~=4.0->azure>=4.0.0->kubeflow-fairing==0.7.1) (0.50.0)\n",
      "Requirement already satisfied, skipping upgrade: azure-mgmt-redis~=5.0 in /opt/conda/lib/python3.6/site-packages (from azure-mgmt~=4.0->azure>=4.0.0->kubeflow-fairing==0.7.1) (5.0.0)\n",
      "Requirement already satisfied, skipping upgrade: azure-mgmt-cosmosdb~=0.4.1 in /opt/conda/lib/python3.6/site-packages (from azure-mgmt~=4.0->azure>=4.0.0->kubeflow-fairing==0.7.1) (0.4.1)\n",
      "Requirement already satisfied, skipping upgrade: azure-mgmt-datalake-store~=0.5.0 in /opt/conda/lib/python3.6/site-packages (from azure-mgmt~=4.0->azure>=4.0.0->kubeflow-fairing==0.7.1) (0.5.0)\n",
      "Requirement already satisfied, skipping upgrade: azure-mgmt-media~=1.0.0rc2 in /opt/conda/lib/python3.6/site-packages (from azure-mgmt~=4.0->azure>=4.0.0->kubeflow-fairing==0.7.1) (1.0.0)\n",
      "Requirement already satisfied, skipping upgrade: azure-mgmt-network~=2.0 in /opt/conda/lib/python3.6/site-packages (from azure-mgmt~=4.0->azure>=4.0.0->kubeflow-fairing==0.7.1) (2.7.0)\n",
      "Requirement already satisfied, skipping upgrade: azure-mgmt-devtestlabs~=2.2 in /opt/conda/lib/python3.6/site-packages (from azure-mgmt~=4.0->azure>=4.0.0->kubeflow-fairing==0.7.1) (2.2.0)\n",
      "Requirement already satisfied, skipping upgrade: azure-mgmt-datamigration~=1.0 in /opt/conda/lib/python3.6/site-packages (from azure-mgmt~=4.0->azure>=4.0.0->kubeflow-fairing==0.7.1) (1.0.0)\n",
      "Requirement already satisfied, skipping upgrade: azure-mgmt-cognitiveservices~=3.0 in /opt/conda/lib/python3.6/site-packages (from azure-mgmt~=4.0->azure>=4.0.0->kubeflow-fairing==0.7.1) (3.0.0)\n",
      "Requirement already satisfied, skipping upgrade: azure-mgmt-compute~=4.0 in /opt/conda/lib/python3.6/site-packages (from azure-mgmt~=4.0->azure>=4.0.0->kubeflow-fairing==0.7.1) (4.6.2)\n"
     ]
    },
    {
     "name": "stdout",
     "output_type": "stream",
     "text": [
      "Requirement already satisfied, skipping upgrade: azure-mgmt-machinelearningcompute~=0.4.1 in /opt/conda/lib/python3.6/site-packages (from azure-mgmt~=4.0->azure>=4.0.0->kubeflow-fairing==0.7.1) (0.4.1)\n",
      "Requirement already satisfied, skipping upgrade: azure-mgmt-containerinstance~=1.0 in /opt/conda/lib/python3.6/site-packages (from azure-mgmt~=4.0->azure>=4.0.0->kubeflow-fairing==0.7.1) (1.5.0)\n",
      "Requirement already satisfied, skipping upgrade: azure-mgmt-servicefabric~=0.2.0 in /opt/conda/lib/python3.6/site-packages (from azure-mgmt~=4.0->azure>=4.0.0->kubeflow-fairing==0.7.1) (0.2.0)\n",
      "Requirement already satisfied, skipping upgrade: azure-mgmt-iotcentral~=0.1.0 in /opt/conda/lib/python3.6/site-packages (from azure-mgmt~=4.0->azure>=4.0.0->kubeflow-fairing==0.7.1) (0.1.0)\n",
      "Requirement already satisfied, skipping upgrade: azure-mgmt-applicationinsights~=0.1.1 in /opt/conda/lib/python3.6/site-packages (from azure-mgmt~=4.0->azure>=4.0.0->kubeflow-fairing==0.7.1) (0.1.1)\n",
      "Requirement already satisfied, skipping upgrade: azure-mgmt-search~=2.0 in /opt/conda/lib/python3.6/site-packages (from azure-mgmt~=4.0->azure>=4.0.0->kubeflow-fairing==0.7.1) (2.1.0)\n",
      "Requirement already satisfied, skipping upgrade: azure-mgmt-powerbiembedded~=2.0 in /opt/conda/lib/python3.6/site-packages (from azure-mgmt~=4.0->azure>=4.0.0->kubeflow-fairing==0.7.1) (2.0.0)\n",
      "Requirement already satisfied, skipping upgrade: azure-mgmt-relay~=0.1.0 in /opt/conda/lib/python3.6/site-packages (from azure-mgmt~=4.0->azure>=4.0.0->kubeflow-fairing==0.7.1) (0.1.0)\n",
      "Requirement already satisfied, skipping upgrade: azure-mgmt-subscription~=0.2.0 in /opt/conda/lib/python3.6/site-packages (from azure-mgmt~=4.0->azure>=4.0.0->kubeflow-fairing==0.7.1) (0.2.0)\n",
      "Requirement already satisfied, skipping upgrade: azure-mgmt-trafficmanager~=0.50.0 in /opt/conda/lib/python3.6/site-packages (from azure-mgmt~=4.0->azure>=4.0.0->kubeflow-fairing==0.7.1) (0.50.0)\n",
      "Requirement already satisfied, skipping upgrade: azure-mgmt-storage~=2.0 in /opt/conda/lib/python3.6/site-packages (from azure-mgmt~=4.0->azure>=4.0.0->kubeflow-fairing==0.7.1) (2.0.0)\n",
      "Requirement already satisfied, skipping upgrade: azure-mgmt-servicebus~=0.5.1 in /opt/conda/lib/python3.6/site-packages (from azure-mgmt~=4.0->azure>=4.0.0->kubeflow-fairing==0.7.1) (0.5.3)\n",
      "Requirement already satisfied, skipping upgrade: azure-mgmt-datafactory~=0.6.0 in /opt/conda/lib/python3.6/site-packages (from azure-mgmt~=4.0->azure>=4.0.0->kubeflow-fairing==0.7.1) (0.6.0)\n",
      "Requirement already satisfied, skipping upgrade: azure-mgmt-monitor~=0.5.2 in /opt/conda/lib/python3.6/site-packages (from azure-mgmt~=4.0->azure>=4.0.0->kubeflow-fairing==0.7.1) (0.5.2)\n",
      "Requirement already satisfied, skipping upgrade: azure-mgmt-batch~=5.0 in /opt/conda/lib/python3.6/site-packages (from azure-mgmt~=4.0->azure>=4.0.0->kubeflow-fairing==0.7.1) (5.0.1)\n",
      "Requirement already satisfied, skipping upgrade: azure-mgmt-devspaces~=0.1.0 in /opt/conda/lib/python3.6/site-packages (from azure-mgmt~=4.0->azure>=4.0.0->kubeflow-fairing==0.7.1) (0.1.0)\n",
      "Requirement already satisfied, skipping upgrade: azure-mgmt-policyinsights~=0.1.0 in /opt/conda/lib/python3.6/site-packages (from azure-mgmt~=4.0->azure>=4.0.0->kubeflow-fairing==0.7.1) (0.1.0)\n",
      "Requirement already satisfied, skipping upgrade: azure-mgmt-dns~=2.0 in /opt/conda/lib/python3.6/site-packages (from azure-mgmt~=4.0->azure>=4.0.0->kubeflow-fairing==0.7.1) (2.1.0)\n",
      "Requirement already satisfied, skipping upgrade: azure-mgmt-recoveryservices~=0.3.0 in /opt/conda/lib/python3.6/site-packages (from azure-mgmt~=4.0->azure>=4.0.0->kubeflow-fairing==0.7.1) (0.3.0)\n",
      "Requirement already satisfied, skipping upgrade: azure-mgmt-iothub~=0.5.0 in /opt/conda/lib/python3.6/site-packages (from azure-mgmt~=4.0->azure>=4.0.0->kubeflow-fairing==0.7.1) (0.5.0)\n",
      "Requirement already satisfied, skipping upgrade: azure-mgmt-logic~=3.0 in /opt/conda/lib/python3.6/site-packages (from azure-mgmt~=4.0->azure>=4.0.0->kubeflow-fairing==0.7.1) (3.0.0)\n",
      "Requirement already satisfied, skipping upgrade: azure-mgmt-marketplaceordering~=0.1.0 in /opt/conda/lib/python3.6/site-packages (from azure-mgmt~=4.0->azure>=4.0.0->kubeflow-fairing==0.7.1) (0.1.0)\n",
      "Requirement already satisfied, skipping upgrade: azure-mgmt-rdbms~=1.2 in /opt/conda/lib/python3.6/site-packages (from azure-mgmt~=4.0->azure>=4.0.0->kubeflow-fairing==0.7.1) (1.9.0)\n",
      "Requirement already satisfied, skipping upgrade: azure-mgmt-reservations~=0.2.1 in /opt/conda/lib/python3.6/site-packages (from azure-mgmt~=4.0->azure>=4.0.0->kubeflow-fairing==0.7.1) (0.2.1)\n",
      "Requirement already satisfied, skipping upgrade: azure-mgmt-advisor~=1.0 in /opt/conda/lib/python3.6/site-packages (from azure-mgmt~=4.0->azure>=4.0.0->kubeflow-fairing==0.7.1) (1.0.1)\n",
      "Requirement already satisfied, skipping upgrade: azure-mgmt-maps~=0.1.0 in /opt/conda/lib/python3.6/site-packages (from azure-mgmt~=4.0->azure>=4.0.0->kubeflow-fairing==0.7.1) (0.1.0)\n",
      "Requirement already satisfied, skipping upgrade: azure-mgmt-web~=0.35.0 in /opt/conda/lib/python3.6/site-packages (from azure-mgmt~=4.0->azure>=4.0.0->kubeflow-fairing==0.7.1) (0.35.0)\n",
      "Requirement already satisfied, skipping upgrade: azure-mgmt-hanaonazure~=0.1.1 in /opt/conda/lib/python3.6/site-packages (from azure-mgmt~=4.0->azure>=4.0.0->kubeflow-fairing==0.7.1) (0.1.1)\n",
      "Requirement already satisfied, skipping upgrade: azure-mgmt-signalr~=0.1.0 in /opt/conda/lib/python3.6/site-packages (from azure-mgmt~=4.0->azure>=4.0.0->kubeflow-fairing==0.7.1) (0.1.1)\n",
      "Requirement already satisfied, skipping upgrade: azure-mgmt-managementpartner~=0.1.0 in /opt/conda/lib/python3.6/site-packages (from azure-mgmt~=4.0->azure>=4.0.0->kubeflow-fairing==0.7.1) (0.1.1)\n",
      "Requirement already satisfied, skipping upgrade: azure-mgmt-commerce~=1.0 in /opt/conda/lib/python3.6/site-packages (from azure-mgmt~=4.0->azure>=4.0.0->kubeflow-fairing==0.7.1) (1.0.1)\n",
      "Requirement already satisfied, skipping upgrade: azure-mgmt-billing~=0.2.0 in /opt/conda/lib/python3.6/site-packages (from azure-mgmt~=4.0->azure>=4.0.0->kubeflow-fairing==0.7.1) (0.2.0)\n",
      "Requirement already satisfied, skipping upgrade: azure-mgmt-keyvault~=1.0 in /opt/conda/lib/python3.6/site-packages (from azure-mgmt~=4.0->azure>=4.0.0->kubeflow-fairing==0.7.1) (1.1.0)\n",
      "Requirement already satisfied, skipping upgrade: azure-mgmt-sql~=0.9.1 in /opt/conda/lib/python3.6/site-packages (from azure-mgmt~=4.0->azure>=4.0.0->kubeflow-fairing==0.7.1) (0.9.1)\n",
      "Requirement already satisfied, skipping upgrade: azure-mgmt-eventgrid~=1.0 in /opt/conda/lib/python3.6/site-packages (from azure-mgmt~=4.0->azure>=4.0.0->kubeflow-fairing==0.7.1) (1.0.0)\n",
      "Requirement already satisfied, skipping upgrade: azure-mgmt-eventhub~=2.1 in /opt/conda/lib/python3.6/site-packages (from azure-mgmt~=4.0->azure>=4.0.0->kubeflow-fairing==0.7.1) (2.6.0)\n",
      "Requirement already satisfied, skipping upgrade: azure-mgmt-containerservice~=4.2 in /opt/conda/lib/python3.6/site-packages (from azure-mgmt~=4.0->azure>=4.0.0->kubeflow-fairing==0.7.1) (4.4.0)\n",
      "Requirement already satisfied, skipping upgrade: azure-mgmt-consumption~=2.0 in /opt/conda/lib/python3.6/site-packages (from azure-mgmt~=4.0->azure>=4.0.0->kubeflow-fairing==0.7.1) (2.0.0)\n",
      "Requirement already satisfied, skipping upgrade: azure-mgmt-iothubprovisioningservices~=0.2.0 in /opt/conda/lib/python3.6/site-packages (from azure-mgmt~=4.0->azure>=4.0.0->kubeflow-fairing==0.7.1) (0.2.0)\n",
      "Requirement already satisfied, skipping upgrade: azure-mgmt-recoveryservicesbackup~=0.3.0 in /opt/conda/lib/python3.6/site-packages (from azure-mgmt~=4.0->azure>=4.0.0->kubeflow-fairing==0.7.1) (0.3.0)\n",
      "Requirement already satisfied, skipping upgrade: azure-mgmt-notificationhubs~=2.0 in /opt/conda/lib/python3.6/site-packages (from azure-mgmt~=4.0->azure>=4.0.0->kubeflow-fairing==0.7.1) (2.1.0)\n",
      "Requirement already satisfied, skipping upgrade: azure-mgmt-scheduler~=2.0 in /opt/conda/lib/python3.6/site-packages (from azure-mgmt~=4.0->azure>=4.0.0->kubeflow-fairing==0.7.1) (2.0.0)\n",
      "Requirement already satisfied, skipping upgrade: azure-mgmt-resource~=2.0 in /opt/conda/lib/python3.6/site-packages (from azure-mgmt~=4.0->azure>=4.0.0->kubeflow-fairing==0.7.1) (2.2.0)\n",
      "Requirement already satisfied, skipping upgrade: azure-mgmt-cdn~=3.0 in /opt/conda/lib/python3.6/site-packages (from azure-mgmt~=4.0->azure>=4.0.0->kubeflow-fairing==0.7.1) (3.1.0)\n",
      "Requirement already satisfied, skipping upgrade: azure-mgmt-loganalytics~=0.2.0 in /opt/conda/lib/python3.6/site-packages (from azure-mgmt~=4.0->azure>=4.0.0->kubeflow-fairing==0.7.1) (0.2.0)\n",
      "Requirement already satisfied, skipping upgrade: azure-mgmt-managementgroups~=0.1.0 in /opt/conda/lib/python3.6/site-packages (from azure-mgmt~=4.0->azure>=4.0.0->kubeflow-fairing==0.7.1) (0.1.0)\n",
      "Requirement already satisfied, skipping upgrade: azure-mgmt-datalake-analytics~=0.6.0 in /opt/conda/lib/python3.6/site-packages (from azure-mgmt~=4.0->azure>=4.0.0->kubeflow-fairing==0.7.1) (0.6.0)\n",
      "Requirement already satisfied, skipping upgrade: asn1crypto>=0.21.0 in /opt/conda/lib/python3.6/site-packages (from cryptography>=1.1.0->adal>=1.2.2->kfserving>=0.2.1.1->kubeflow-fairing==0.7.1) (0.24.0)\n",
      "Requirement already satisfied, skipping upgrade: pickleshare in /opt/conda/lib/python3.6/site-packages (from ipython>=5.0.0->ipykernel->notebook>=5.6.0->kubeflow-fairing==0.7.1) (0.7.5)\n",
      "Requirement already satisfied, skipping upgrade: prompt-toolkit!=3.0.0,!=3.0.1,<3.1.0,>=2.0.0 in /opt/conda/lib/python3.6/site-packages (from ipython>=5.0.0->ipykernel->notebook>=5.6.0->kubeflow-fairing==0.7.1) (2.0.10)\n",
      "Requirement already satisfied, skipping upgrade: jedi>=0.10 in /opt/conda/lib/python3.6/site-packages (from ipython>=5.0.0->ipykernel->notebook>=5.6.0->kubeflow-fairing==0.7.1) (0.15.2)\n",
      "Requirement already satisfied, skipping upgrade: pexpect; sys_platform != \"win32\" in /opt/conda/lib/python3.6/site-packages (from ipython>=5.0.0->ipykernel->notebook>=5.6.0->kubeflow-fairing==0.7.1) (4.8.0)\n",
      "Requirement already satisfied, skipping upgrade: backcall in /opt/conda/lib/python3.6/site-packages (from ipython>=5.0.0->ipykernel->notebook>=5.6.0->kubeflow-fairing==0.7.1) (0.1.0)\n",
      "Requirement already satisfied, skipping upgrade: attrs>=17.4.0 in /opt/conda/lib/python3.6/site-packages (from jsonschema!=2.5.0,>=2.4->nbformat->notebook>=5.6.0->kubeflow-fairing==0.7.1) (19.3.0)\n"
     ]
    },
    {
     "name": "stdout",
     "output_type": "stream",
     "text": [
      "Requirement already satisfied, skipping upgrade: importlib-metadata; python_version < \"3.8\" in /opt/conda/lib/python3.6/site-packages (from jsonschema!=2.5.0,>=2.4->nbformat->notebook>=5.6.0->kubeflow-fairing==0.7.1) (1.4.0)\n",
      "Requirement already satisfied, skipping upgrade: pyrsistent>=0.14.0 in /opt/conda/lib/python3.6/site-packages (from jsonschema!=2.5.0,>=2.4->nbformat->notebook>=5.6.0->kubeflow-fairing==0.7.1) (0.15.7)\n",
      "Requirement already satisfied, skipping upgrade: webencodings in /opt/conda/lib/python3.6/site-packages (from bleach->nbconvert->notebook>=5.6.0->kubeflow-fairing==0.7.1) (0.5.1)\n",
      "Requirement already satisfied, skipping upgrade: isodate>=0.6.0 in /opt/conda/lib/python3.6/site-packages (from msrest>=0.5.0->azure-keyvault~=1.0->azure>=4.0.0->kubeflow-fairing==0.7.1) (0.6.0)\n",
      "Requirement already satisfied, skipping upgrade: pycparser in /opt/conda/lib/python3.6/site-packages (from cffi->azure-datalake-store~=0.0.18->azure>=4.0.0->kubeflow-fairing==0.7.1) (2.18)\n",
      "Requirement already satisfied, skipping upgrade: azure-mgmt-nspkg>=2.0.0 in /opt/conda/lib/python3.6/site-packages (from azure-mgmt-batchai~=2.0->azure-mgmt~=4.0->azure>=4.0.0->kubeflow-fairing==0.7.1) (3.0.2)\n",
      "Requirement already satisfied, skipping upgrade: azure-mgmt-datalake-nspkg>=2.0.0 in /opt/conda/lib/python3.6/site-packages (from azure-mgmt-datalake-store~=0.5.0->azure-mgmt~=4.0->azure>=4.0.0->kubeflow-fairing==0.7.1) (3.0.1)\n",
      "Requirement already satisfied, skipping upgrade: wcwidth in /opt/conda/lib/python3.6/site-packages (from prompt-toolkit!=3.0.0,!=3.0.1,<3.1.0,>=2.0.0->ipython>=5.0.0->ipykernel->notebook>=5.6.0->kubeflow-fairing==0.7.1) (0.1.8)\n",
      "Requirement already satisfied, skipping upgrade: parso>=0.5.2 in /opt/conda/lib/python3.6/site-packages (from jedi>=0.10->ipython>=5.0.0->ipykernel->notebook>=5.6.0->kubeflow-fairing==0.7.1) (0.5.2)\n",
      "Requirement already satisfied, skipping upgrade: zipp>=0.5 in /opt/conda/lib/python3.6/site-packages (from importlib-metadata; python_version < \"3.8\"->jsonschema!=2.5.0,>=2.4->nbformat->notebook>=5.6.0->kubeflow-fairing==0.7.1) (2.0.1)\n",
      "Requirement already satisfied, skipping upgrade: more-itertools in /opt/conda/lib/python3.6/site-packages (from zipp>=0.5->importlib-metadata; python_version < \"3.8\"->jsonschema!=2.5.0,>=2.4->nbformat->notebook>=5.6.0->kubeflow-fairing==0.7.1) (8.1.0)\n",
      "Building wheels for collected packages: kubeflow-fairing\n",
      "  Building wheel for kubeflow-fairing (setup.py) ... \u001b[?25ldone\n",
      "\u001b[?25h  Stored in directory: /tmp/pip-ephem-wheel-cache-hk6sx0rh/wheels/98/1e/af/74029ca3fc6818382f1a3aa55f499bdab9e832420bf6a5f7c4\n",
      "Successfully built kubeflow-fairing\n",
      "Installing collected packages: kubeflow-fairing\n",
      "  Found existing installation: kubeflow-fairing 0.7.1\n",
      "    Uninstalling kubeflow-fairing-0.7.1:\n",
      "      Successfully uninstalled kubeflow-fairing-0.7.1\n",
      "Successfully installed kubeflow-fairing-0.7.1\n",
      "\u001b[33mYou are using pip version 19.0.1, however version 20.0.1 is available.\n",
      "You should consider upgrading via the 'pip install --upgrade pip' command.\u001b[0m\n"
     ]
    }
   ],
   "source": [
    "# Install latest Fairing from github repository\n",
    "!git clone https://github.com/kubeflow/fairing\n",
    "!pip install --upgrade fairing/"
   ]
  },
  {
   "cell_type": "code",
   "execution_count": 2,
   "metadata": {},
   "outputs": [
    {
     "name": "stdout",
     "output_type": "stream",
     "text": [
      "Overwriting requirements.txt\n"
     ]
    }
   ],
   "source": [
    "%%writefile requirements.txt\n",
    "pandas\n",
    "joblib\n",
    "numpy\n",
    "xgboost\n",
    "scikit-learn>=0.21.0\n",
    "seldon-core\n",
    "tornado>=6.0.3"
   ]
  },
  {
   "cell_type": "code",
   "execution_count": 3,
   "metadata": {},
   "outputs": [
    {
     "name": "stdout",
     "output_type": "stream",
     "text": [
      "Requirement already satisfied: pandas in /opt/conda/lib/python3.6/site-packages (from -r requirements.txt (line 1)) (0.24.2)\n",
      "Requirement already satisfied: joblib in /opt/conda/lib/python3.6/site-packages (from -r requirements.txt (line 2)) (0.14.1)\n",
      "Requirement already satisfied: numpy in /opt/conda/lib/python3.6/site-packages (from -r requirements.txt (line 3)) (1.18.1)\n",
      "Requirement already satisfied: xgboost in /opt/conda/lib/python3.6/site-packages (from -r requirements.txt (line 4)) (0.90)\n",
      "Requirement already satisfied: scikit-learn>=0.21.0 in /opt/conda/lib/python3.6/site-packages (from -r requirements.txt (line 5)) (0.21.2)\n",
      "Requirement already satisfied: seldon-core in /opt/conda/lib/python3.6/site-packages (from -r requirements.txt (line 6)) (1.0.1)\n",
      "Requirement already satisfied: tornado>=6.0.3 in /opt/conda/lib/python3.6/site-packages (from -r requirements.txt (line 7)) (6.0.3)\n",
      "Requirement already satisfied: pytz>=2011k in /opt/conda/lib/python3.6/site-packages (from pandas->-r requirements.txt (line 1)) (2019.3)\n",
      "Requirement already satisfied: python-dateutil>=2.5.0 in /opt/conda/lib/python3.6/site-packages (from pandas->-r requirements.txt (line 1)) (2.8.0)\n",
      "Requirement already satisfied: scipy in /opt/conda/lib/python3.6/site-packages (from xgboost->-r requirements.txt (line 4)) (1.1.0)\n",
      "Requirement already satisfied: flatbuffers<2.0.0 in /opt/conda/lib/python3.6/site-packages (from seldon-core->-r requirements.txt (line 6)) (1.11)\n",
      "Requirement already satisfied: gunicorn<20.1.0,>=19.9.0 in /opt/conda/lib/python3.6/site-packages (from seldon-core->-r requirements.txt (line 6)) (20.0.4)\n",
      "Requirement already satisfied: azure-storage-blob<3.0.0,>=2.0.1 in /opt/conda/lib/python3.6/site-packages (from seldon-core->-r requirements.txt (line 6)) (2.1.0)\n",
      "Requirement already satisfied: grpcio<2.0.0 in /opt/conda/lib/python3.6/site-packages (from seldon-core->-r requirements.txt (line 6)) (1.26.0)\n",
      "Requirement already satisfied: opentracing<2.3.0,>=2.2.0 in /opt/conda/lib/python3.6/site-packages (from seldon-core->-r requirements.txt (line 6)) (2.2.0)\n",
      "Requirement already satisfied: redis<4.0.0 in /opt/conda/lib/python3.6/site-packages (from seldon-core->-r requirements.txt (line 6)) (3.3.11)\n",
      "Requirement already satisfied: Flask-OpenTracing<1.2.0,>=1.1.0 in /opt/conda/lib/python3.6/site-packages (from seldon-core->-r requirements.txt (line 6)) (1.1.0)\n",
      "Requirement already satisfied: jaeger-client<4.2.0,>=4.1.0 in /opt/conda/lib/python3.6/site-packages (from seldon-core->-r requirements.txt (line 6)) (4.1.0)\n",
      "Requirement already satisfied: protobuf<4.0.0 in /opt/conda/lib/python3.6/site-packages (from seldon-core->-r requirements.txt (line 6)) (3.11.2)\n",
      "Requirement already satisfied: minio<6.0.0,>=4.0.9 in /opt/conda/lib/python3.6/site-packages (from seldon-core->-r requirements.txt (line 6)) (5.0.6)\n",
      "Requirement already satisfied: setuptools>=41.0.0 in /opt/conda/lib/python3.6/site-packages (from seldon-core->-r requirements.txt (line 6)) (45.1.0)\n",
      "Requirement already satisfied: Flask<2.0.0 in /opt/conda/lib/python3.6/site-packages (from seldon-core->-r requirements.txt (line 6)) (1.1.1)\n",
      "Requirement already satisfied: grpcio-opentracing<1.2.0,>=1.1.4 in /opt/conda/lib/python3.6/site-packages (from seldon-core->-r requirements.txt (line 6)) (1.1.4)\n",
      "Requirement already satisfied: requests<3.0.0 in /opt/conda/lib/python3.6/site-packages (from seldon-core->-r requirements.txt (line 6)) (2.22.0)\n",
      "Requirement already satisfied: pyaml<20.0.0 in /opt/conda/lib/python3.6/site-packages (from seldon-core->-r requirements.txt (line 6)) (19.12.0)\n",
      "Requirement already satisfied: Flask-cors<4.0.0 in /opt/conda/lib/python3.6/site-packages (from seldon-core->-r requirements.txt (line 6)) (3.0.8)\n",
      "Requirement already satisfied: six>=1.5 in /opt/conda/lib/python3.6/site-packages (from python-dateutil>=2.5.0->pandas->-r requirements.txt (line 1)) (1.11.0)\n",
      "Requirement already satisfied: azure-storage-common~=2.1 in /opt/conda/lib/python3.6/site-packages (from azure-storage-blob<3.0.0,>=2.0.1->seldon-core->-r requirements.txt (line 6)) (2.1.0)\n",
      "Requirement already satisfied: azure-common>=1.1.5 in /opt/conda/lib/python3.6/site-packages (from azure-storage-blob<3.0.0,>=2.0.1->seldon-core->-r requirements.txt (line 6)) (1.1.24)\n",
      "Requirement already satisfied: thrift in /opt/conda/lib/python3.6/site-packages (from jaeger-client<4.2.0,>=4.1.0->seldon-core->-r requirements.txt (line 6)) (0.13.0)\n",
      "Requirement already satisfied: threadloop<2,>=1 in /opt/conda/lib/python3.6/site-packages (from jaeger-client<4.2.0,>=4.1.0->seldon-core->-r requirements.txt (line 6)) (1.0.2)\n",
      "Requirement already satisfied: certifi in /opt/conda/lib/python3.6/site-packages (from minio<6.0.0,>=4.0.9->seldon-core->-r requirements.txt (line 6)) (2019.3.9)\n",
      "Requirement already satisfied: urllib3 in /opt/conda/lib/python3.6/site-packages (from minio<6.0.0,>=4.0.9->seldon-core->-r requirements.txt (line 6)) (1.24.2)\n",
      "Requirement already satisfied: Jinja2>=2.10.1 in /opt/conda/lib/python3.6/site-packages (from Flask<2.0.0->seldon-core->-r requirements.txt (line 6)) (2.10.3)\n",
      "Requirement already satisfied: click>=5.1 in /opt/conda/lib/python3.6/site-packages (from Flask<2.0.0->seldon-core->-r requirements.txt (line 6)) (7.0)\n",
      "Requirement already satisfied: Werkzeug>=0.15 in /opt/conda/lib/python3.6/site-packages (from Flask<2.0.0->seldon-core->-r requirements.txt (line 6)) (0.16.0)\n",
      "Requirement already satisfied: itsdangerous>=0.24 in /opt/conda/lib/python3.6/site-packages (from Flask<2.0.0->seldon-core->-r requirements.txt (line 6)) (1.1.0)\n",
      "Requirement already satisfied: chardet<3.1.0,>=3.0.2 in /opt/conda/lib/python3.6/site-packages (from requests<3.0.0->seldon-core->-r requirements.txt (line 6)) (3.0.4)\n",
      "Requirement already satisfied: idna<2.9,>=2.5 in /opt/conda/lib/python3.6/site-packages (from requests<3.0.0->seldon-core->-r requirements.txt (line 6)) (2.6)\n",
      "Requirement already satisfied: PyYAML in /opt/conda/lib/python3.6/site-packages (from pyaml<20.0.0->seldon-core->-r requirements.txt (line 6)) (5.2)\n",
      "Requirement already satisfied: cryptography in /opt/conda/lib/python3.6/site-packages (from azure-storage-common~=2.1->azure-storage-blob<3.0.0,>=2.0.1->seldon-core->-r requirements.txt (line 6)) (2.4.2)\n",
      "Requirement already satisfied: MarkupSafe>=0.23 in /opt/conda/lib/python3.6/site-packages (from Jinja2>=2.10.1->Flask<2.0.0->seldon-core->-r requirements.txt (line 6)) (1.1.1)\n",
      "Requirement already satisfied: asn1crypto>=0.21.0 in /opt/conda/lib/python3.6/site-packages (from cryptography->azure-storage-common~=2.1->azure-storage-blob<3.0.0,>=2.0.1->seldon-core->-r requirements.txt (line 6)) (0.24.0)\n",
      "Requirement already satisfied: cffi!=1.11.3,>=1.7 in /opt/conda/lib/python3.6/site-packages (from cryptography->azure-storage-common~=2.1->azure-storage-blob<3.0.0,>=2.0.1->seldon-core->-r requirements.txt (line 6)) (1.11.5)\n",
      "Requirement already satisfied: pycparser in /opt/conda/lib/python3.6/site-packages (from cffi!=1.11.3,>=1.7->cryptography->azure-storage-common~=2.1->azure-storage-blob<3.0.0,>=2.0.1->seldon-core->-r requirements.txt (line 6)) (2.18)\n",
      "\u001b[33mYou are using pip version 19.0.1, however version 20.0.1 is available.\n",
      "You should consider upgrading via the 'pip install --upgrade pip' command.\u001b[0m\n"
     ]
    }
   ],
   "source": [
    "!pip install -r requirements.txt"
   ]
  },
  {
   "cell_type": "markdown",
   "metadata": {},
   "source": [
    "## Train on Kubernetes\n",
    "\n",
    "We will show you how to run a training job in kubernetes cluster. You can use `ECR` as your container image registry."
   ]
  },
  {
   "cell_type": "code",
   "execution_count": 4,
   "metadata": {},
   "outputs": [
    {
     "name": "stdout",
     "output_type": "stream",
     "text": [
      "WARNING! Using --password via the CLI is insecure. Use --password-stdin.\n",
      "WARNING! Your password will be stored unencrypted in /root/.docker/config.json.\n",
      "Configure a credential helper to remove this warning. See\n",
      "https://docs.docker.com/engine/reference/commandline/login/#credentials-store\n",
      "\n",
      "Login Succeeded\n"
     ]
    }
   ],
   "source": [
    "# Authenticate ECR\n",
    "# This command retrieves a token that is valid for a specified registry for 12 hours, \n",
    "# and then it prints a docker login command with that authorization token. \n",
    "# Then we executate this command to login ECR\n",
    "\n",
    "REGION='us-west-2'\n",
    "!eval $(aws ecr get-login --no-include-email --region=$REGION)"
   ]
  },
  {
   "cell_type": "code",
   "execution_count": 5,
   "metadata": {},
   "outputs": [
    {
     "name": "stdout",
     "output_type": "stream",
     "text": [
      "\r\n",
      "An error occurred (RepositoryAlreadyExistsException) when calling the CreateRepository operation: The repository with name 'fairing-job' already exists in the registry with id '123384328431'\r\n"
     ]
    }
   ],
   "source": [
    "# Create an ECR repository in the same region\n",
    "# If you receive \"RepositoryAlreadyExistsException\" error, it means the repository already\n",
    "# exists. You can move to the next step\n",
    "!aws ecr create-repository --repository-name fairing-job --region=$REGION"
   ]
  },
  {
   "cell_type": "markdown",
   "metadata": {},
   "source": [
    "If you see any issues below, please restart notebook. It's probably because of new installed packages.\n",
    "\n",
    "Click `Kernel` -> `Restart & Clear Output`"
   ]
  },
  {
   "cell_type": "markdown",
   "metadata": {},
   "source": [
    "### Develop your model"
   ]
  },
  {
   "cell_type": "code",
   "execution_count": 6,
   "metadata": {},
   "outputs": [],
   "source": [
    "import argparse\n",
    "import logging\n",
    "import joblib\n",
    "import sys\n",
    "import pandas as pd\n",
    "import numpy as np\n",
    "from sklearn.metrics import mean_absolute_error\n",
    "from sklearn.model_selection import train_test_split\n",
    "from sklearn.impute import SimpleImputer\n",
    "from xgboost import XGBRegressor\n",
    "\n",
    "logging.basicConfig(format='%(message)s')\n",
    "logging.getLogger().setLevel(logging.INFO)"
   ]
  },
  {
   "cell_type": "code",
   "execution_count": 7,
   "metadata": {},
   "outputs": [],
   "source": [
    "def read_input(file_name, test_size=0.25):\n",
    "    \"\"\"Read input data and split it into train and test.\"\"\"\n",
    "    data = pd.read_csv(file_name)\n",
    "    data.dropna(axis=0, subset=['SalePrice'], inplace=True)\n",
    "\n",
    "    y = data.SalePrice\n",
    "    X = data.drop(['SalePrice'], axis=1).select_dtypes(exclude=['object'])\n",
    "\n",
    "    train_X, test_X, train_y, test_y = train_test_split(X.values,\n",
    "                                                      y.values,\n",
    "                                                      test_size=test_size,\n",
    "                                                      shuffle=False)\n",
    "\n",
    "    imputer = SimpleImputer()\n",
    "    train_X = imputer.fit_transform(train_X)\n",
    "    test_X = imputer.transform(test_X)\n",
    "\n",
    "    return (train_X, train_y), (test_X, test_y)\n",
    "\n",
    "def train_model(train_X,\n",
    "                train_y,\n",
    "                test_X,\n",
    "                test_y,\n",
    "                n_estimators,\n",
    "                learning_rate):\n",
    "    \"\"\"Train the model using XGBRegressor.\"\"\"\n",
    "    model = XGBRegressor(n_estimators=n_estimators, learning_rate=learning_rate)\n",
    "\n",
    "    model.fit(train_X,\n",
    "            train_y,\n",
    "            early_stopping_rounds=40,\n",
    "            eval_set=[(test_X, test_y)])\n",
    "\n",
    "    print(\"Best RMSE on eval: %.2f with %d rounds\" %\n",
    "               (model.best_score,\n",
    "                model.best_iteration+1))\n",
    "    return model\n",
    "\n",
    "def eval_model(model, test_X, test_y):\n",
    "    \"\"\"Evaluate the model performance.\"\"\"\n",
    "    predictions = model.predict(test_X)\n",
    "    logging.info(\"mean_absolute_error=%.2f\", mean_absolute_error(predictions, test_y))\n",
    "\n",
    "def save_model(model, model_file):\n",
    "    \"\"\"Save XGBoost model for serving.\"\"\"\n",
    "    joblib.dump(model, model_file)\n",
    "    logging.info(\"Model export success: %s\", model_file)\n",
    "    \n",
    "    \n",
    "class HousingServe(object):\n",
    "    \n",
    "    def __init__(self):\n",
    "        self.train_input = \"ames_dataset/train.csv\"\n",
    "        self.n_estimators = 50\n",
    "        self.learning_rate = 0.1\n",
    "        self.model_file = \"trained_ames_model.dat\"\n",
    "        self.model = None\n",
    "\n",
    "    def train(self):\n",
    "        (train_X, train_y), (test_X, test_y) = read_input(self.train_input)\n",
    "        model = train_model(train_X,\n",
    "                          train_y,\n",
    "                          test_X,\n",
    "                          test_y,\n",
    "                          self.n_estimators,\n",
    "                          self.learning_rate)\n",
    "\n",
    "        eval_model(model, test_X, test_y)\n",
    "        save_model(model, self.model_file)\n",
    "\n",
    "    def predict(self, X, feature_names=None):\n",
    "        \"\"\"Predict using the model for given ndarray.\"\"\"\n",
    "        if not self.model:\n",
    "            self.model = joblib.load(self.model_file)\n",
    "        # Do any preprocessing\n",
    "        prediction = self.model.predict(data=X)\n",
    "        # Do any postprocessing\n",
    "        return prediction"
   ]
  },
  {
   "cell_type": "markdown",
   "metadata": {},
   "source": [
    "### Train an XGBoost model in a notebook"
   ]
  },
  {
   "cell_type": "code",
   "execution_count": 8,
   "metadata": {},
   "outputs": [
    {
     "name": "stdout",
     "output_type": "stream",
     "text": [
      "[20:57:13] WARNING: /workspace/src/objective/regression_obj.cu:152: reg:linear is now deprecated in favor of reg:squarederror.\n",
      "[0]\tvalidation_0-rmse:177514\n",
      "Will train until validation_0-rmse hasn't improved in 40 rounds.\n",
      "[1]\tvalidation_0-rmse:161858\n",
      "[2]\tvalidation_0-rmse:147237\n",
      "[3]\tvalidation_0-rmse:134132\n",
      "[4]\tvalidation_0-rmse:122224\n",
      "[5]\tvalidation_0-rmse:111538\n",
      "[6]\tvalidation_0-rmse:102142\n",
      "[7]\tvalidation_0-rmse:93392.3\n",
      "[8]\tvalidation_0-rmse:85824.6\n",
      "[9]\tvalidation_0-rmse:79667.6\n",
      "[10]\tvalidation_0-rmse:73463.4\n",
      "[11]\tvalidation_0-rmse:68059.4\n",
      "[12]\tvalidation_0-rmse:63350.5\n",
      "[13]\tvalidation_0-rmse:59732.1\n",
      "[14]\tvalidation_0-rmse:56260.7\n",
      "[15]\tvalidation_0-rmse:53392.6\n",
      "[16]\tvalidation_0-rmse:50770.8\n",
      "[17]\tvalidation_0-rmse:48107.8\n",
      "[18]\tvalidation_0-rmse:45923.9\n",
      "[19]\tvalidation_0-rmse:44154.2\n",
      "[20]\tvalidation_0-rmse:42488.1\n",
      "[21]\tvalidation_0-rmse:41263.3\n",
      "[22]\tvalidation_0-rmse:40212.8\n",
      "[23]\tvalidation_0-rmse:39089.1\n",
      "[24]\tvalidation_0-rmse:37691.1\n",
      "[25]\tvalidation_0-rmse:36875.2\n",
      "[26]\tvalidation_0-rmse:36276.2\n",
      "[27]\tvalidation_0-rmse:35444.1\n",
      "[28]\tvalidation_0-rmse:34831.5\n",
      "[29]\tvalidation_0-rmse:34205.4\n",
      "[30]\tvalidation_0-rmse:33831.9\n",
      "[31]\tvalidation_0-rmse:33183.6\n",
      "[32]\tvalidation_0-rmse:33019.4\n",
      "[33]\tvalidation_0-rmse:32680\n",
      "[34]\tvalidation_0-rmse:32438.5\n",
      "[35]\tvalidation_0-rmse:32130.4\n",
      "[36]\tvalidation_0-rmse:31644.2\n",
      "[37]\tvalidation_0-rmse:31248.9\n",
      "[38]\tvalidation_0-rmse:31059.8\n",
      "[39]\tvalidation_0-rmse:30862.4\n",
      "[40]\tvalidation_0-rmse:30754\n",
      "[41]\tvalidation_0-rmse:30561.6\n",
      "[42]\tvalidation_0-rmse:30416.9\n",
      "[43]\tvalidation_0-rmse:30156.4\n",
      "[44]\tvalidation_0-rmse:29852.9\n",
      "[45]\tvalidation_0-rmse:29486.6\n",
      "[46]\tvalidation_0-rmse:29158.8\n",
      "[47]\tvalidation_0-rmse:29017\n",
      "[48]\tvalidation_0-rmse:28973.9\n",
      "[49]\tvalidation_0-rmse:28787.7\n"
     ]
    },
    {
     "name": "stderr",
     "output_type": "stream",
     "text": [
      "mean_absolute_error=18173.15\n",
      "Model export success: trained_ames_model.dat\n"
     ]
    },
    {
     "name": "stdout",
     "output_type": "stream",
     "text": [
      "Best RMSE on eval: 28787.72 with 50 rounds\n"
     ]
    }
   ],
   "source": [
    "model = HousingServe()\n",
    "model.train()"
   ]
  },
  {
   "cell_type": "markdown",
   "metadata": {},
   "source": [
    "### Set up Kubeflow Fairing for training and predictions\n",
    "\n",
    "_Note: remember to change `<your-globally-unique-bucket-name>` to your own s3 bucket._"
   ]
  },
  {
   "cell_type": "code",
   "execution_count": 9,
   "metadata": {},
   "outputs": [],
   "source": [
    "from kubeflow import fairing\n",
    "from kubeflow.fairing import TrainJob\n",
    "from kubeflow.fairing.backends import KubeflowAWSBackend\n",
    "\n",
    "\n",
    "from kubeflow import fairing\n",
    "\n",
    "FAIRING_BACKEND = 'KubeflowAWSBackend'\n",
    "\n",
    "AWS_ACCOUNT_ID = fairing.cloud.aws.guess_account_id()\n",
    "AWS_REGION = 'us-west-2'\n",
    "DOCKER_REGISTRY = '{}.dkr.ecr.{}.amazonaws.com'.format(AWS_ACCOUNT_ID, AWS_REGION)\n",
    "\n",
    "##############\n",
    "S3_BUCKET = 'workshop-cfregly222'\n",
    "##############"
   ]
  },
  {
   "cell_type": "code",
   "execution_count": 10,
   "metadata": {},
   "outputs": [],
   "source": [
    "import importlib\n",
    "\n",
    "if FAIRING_BACKEND == 'KubeflowAWSBackend':\n",
    "    from kubeflow.fairing.builders.cluster.s3_context import S3ContextSource\n",
    "    BuildContext = S3ContextSource(\n",
    "        aws_account=AWS_ACCOUNT_ID, region=AWS_REGION,\n",
    "        bucket_name=S3_BUCKET\n",
    "    )\n",
    "\n",
    "BackendClass = getattr(importlib.import_module('kubeflow.fairing.backends'), FAIRING_BACKEND)"
   ]
  },
  {
   "cell_type": "markdown",
   "metadata": {},
   "source": [
    "### Train an XGBoost model remotely on Kubeflow\n",
    "Import the `TrainJob` and use the configured backend class. Kubeflow Fairing packages the `HousingServe` class, the training data, and the training job's software prerequisites as a Docker image. Then Kubeflow Fairing deploys and runs the training job on Kubeflow.\n"
   ]
  },
  {
   "cell_type": "code",
   "execution_count": 11,
   "metadata": {},
   "outputs": [
    {
     "name": "stderr",
     "output_type": "stream",
     "text": [
      "Using default base docker image: registry.hub.docker.com/library/python:3.6.8\n",
      "Using builder: <class 'kubeflow.fairing.builders.cluster.cluster.ClusterBuilder'>\n",
      "Building the docker image.\n",
      "Building image using cluster builder.\n",
      "/opt/conda/lib/python3.6/site-packages/kubeflow/fairing/__init__.py already exists in Fairing context, skipping...\n",
      "Creating docker context: /tmp/fairing_context_mpsy7rhx\n",
      "/opt/conda/lib/python3.6/site-packages/kubeflow/fairing/__init__.py already exists in Fairing context, skipping...\n"
     ]
    },
    {
     "ename": "BucketAlreadyExists",
     "evalue": "An error occurred (BucketAlreadyExists) when calling the CreateBucket operation: The requested bucket name is not available. The bucket namespace is shared by all users of the system. Please select a different name and try again.",
     "output_type": "error",
     "traceback": [
      "\u001b[0;31m---------------------------------------------------------------------------\u001b[0m",
      "\u001b[0;31mClientError\u001b[0m                               Traceback (most recent call last)",
      "\u001b[0;32m/opt/conda/lib/python3.6/site-packages/kubeflow/fairing/cloud/aws.py\u001b[0m in \u001b[0;36mcreate_bucket_if_not_exists\u001b[0;34m(self, bucket_name)\u001b[0m\n\u001b[1;32m     38\u001b[0m         \u001b[0;32mtry\u001b[0m\u001b[0;34m:\u001b[0m\u001b[0;34m\u001b[0m\u001b[0;34m\u001b[0m\u001b[0m\n\u001b[0;32m---> 39\u001b[0;31m             \u001b[0mself\u001b[0m\u001b[0;34m.\u001b[0m\u001b[0mstorage_client\u001b[0m\u001b[0;34m.\u001b[0m\u001b[0mhead_bucket\u001b[0m\u001b[0;34m(\u001b[0m\u001b[0mBucket\u001b[0m\u001b[0;34m=\u001b[0m\u001b[0mbucket_name\u001b[0m\u001b[0;34m)\u001b[0m\u001b[0;34m\u001b[0m\u001b[0;34m\u001b[0m\u001b[0m\n\u001b[0m\u001b[1;32m     40\u001b[0m         \u001b[0;32mexcept\u001b[0m \u001b[0mClientError\u001b[0m\u001b[0;34m:\u001b[0m\u001b[0;34m\u001b[0m\u001b[0;34m\u001b[0m\u001b[0m\n",
      "\u001b[0;32m/opt/conda/lib/python3.6/site-packages/botocore/client.py\u001b[0m in \u001b[0;36m_api_call\u001b[0;34m(self, *args, **kwargs)\u001b[0m\n\u001b[1;32m    275\u001b[0m             \u001b[0;31m# The \"self\" in this scope is referring to the BaseClient.\u001b[0m\u001b[0;34m\u001b[0m\u001b[0;34m\u001b[0m\u001b[0;34m\u001b[0m\u001b[0m\n\u001b[0;32m--> 276\u001b[0;31m             \u001b[0;32mreturn\u001b[0m \u001b[0mself\u001b[0m\u001b[0;34m.\u001b[0m\u001b[0m_make_api_call\u001b[0m\u001b[0;34m(\u001b[0m\u001b[0moperation_name\u001b[0m\u001b[0;34m,\u001b[0m \u001b[0mkwargs\u001b[0m\u001b[0;34m)\u001b[0m\u001b[0;34m\u001b[0m\u001b[0;34m\u001b[0m\u001b[0m\n\u001b[0m\u001b[1;32m    277\u001b[0m \u001b[0;34m\u001b[0m\u001b[0m\n",
      "\u001b[0;32m/opt/conda/lib/python3.6/site-packages/botocore/client.py\u001b[0m in \u001b[0;36m_make_api_call\u001b[0;34m(self, operation_name, api_params)\u001b[0m\n\u001b[1;32m    585\u001b[0m             \u001b[0merror_class\u001b[0m \u001b[0;34m=\u001b[0m \u001b[0mself\u001b[0m\u001b[0;34m.\u001b[0m\u001b[0mexceptions\u001b[0m\u001b[0;34m.\u001b[0m\u001b[0mfrom_code\u001b[0m\u001b[0;34m(\u001b[0m\u001b[0merror_code\u001b[0m\u001b[0;34m)\u001b[0m\u001b[0;34m\u001b[0m\u001b[0;34m\u001b[0m\u001b[0m\n\u001b[0;32m--> 586\u001b[0;31m             \u001b[0;32mraise\u001b[0m \u001b[0merror_class\u001b[0m\u001b[0;34m(\u001b[0m\u001b[0mparsed_response\u001b[0m\u001b[0;34m,\u001b[0m \u001b[0moperation_name\u001b[0m\u001b[0;34m)\u001b[0m\u001b[0;34m\u001b[0m\u001b[0;34m\u001b[0m\u001b[0m\n\u001b[0m\u001b[1;32m    587\u001b[0m         \u001b[0;32melse\u001b[0m\u001b[0;34m:\u001b[0m\u001b[0;34m\u001b[0m\u001b[0;34m\u001b[0m\u001b[0m\n",
      "\u001b[0;31mClientError\u001b[0m: An error occurred (403) when calling the HeadBucket operation: Forbidden",
      "\nDuring handling of the above exception, another exception occurred:\n",
      "\u001b[0;31mBucketAlreadyExists\u001b[0m                       Traceback (most recent call last)",
      "\u001b[0;32m<ipython-input-11-ed64d6eea92b>\u001b[0m in \u001b[0;36m<module>\u001b[0;34m\u001b[0m\n\u001b[1;32m      3\u001b[0m                      \u001b[0mdocker_registry\u001b[0m\u001b[0;34m=\u001b[0m\u001b[0mDOCKER_REGISTRY\u001b[0m\u001b[0;34m,\u001b[0m\u001b[0;34m\u001b[0m\u001b[0;34m\u001b[0m\u001b[0m\n\u001b[1;32m      4\u001b[0m                      backend=BackendClass(build_context_source=BuildContext))\n\u001b[0;32m----> 5\u001b[0;31m \u001b[0mtrain_job\u001b[0m\u001b[0;34m.\u001b[0m\u001b[0msubmit\u001b[0m\u001b[0;34m(\u001b[0m\u001b[0;34m)\u001b[0m\u001b[0;34m\u001b[0m\u001b[0;34m\u001b[0m\u001b[0m\n\u001b[0m",
      "\u001b[0;32m/opt/conda/lib/python3.6/site-packages/kubeflow/fairing/ml_tasks/tasks.py\u001b[0m in \u001b[0;36msubmit\u001b[0;34m(self)\u001b[0m\n\u001b[1;32m     79\u001b[0m     \u001b[0;32mdef\u001b[0m \u001b[0msubmit\u001b[0m\u001b[0;34m(\u001b[0m\u001b[0mself\u001b[0m\u001b[0;34m)\u001b[0m\u001b[0;34m:\u001b[0m\u001b[0;34m\u001b[0m\u001b[0;34m\u001b[0m\u001b[0m\n\u001b[1;32m     80\u001b[0m         \u001b[0;34m\"\"\"Submit a train job. \"\"\"\u001b[0m\u001b[0;34m\u001b[0m\u001b[0;34m\u001b[0m\u001b[0m\n\u001b[0;32m---> 81\u001b[0;31m         \u001b[0mself\u001b[0m\u001b[0;34m.\u001b[0m\u001b[0m_build\u001b[0m\u001b[0;34m(\u001b[0m\u001b[0;34m)\u001b[0m\u001b[0;34m\u001b[0m\u001b[0;34m\u001b[0m\u001b[0m\n\u001b[0m\u001b[1;32m     82\u001b[0m         deployer = self._backend.get_training_deployer(\n\u001b[1;32m     83\u001b[0m             pod_spec_mutators=self._pod_spec_mutators)\n",
      "\u001b[0;32m/opt/conda/lib/python3.6/site-packages/kubeflow/fairing/ml_tasks/tasks.py\u001b[0m in \u001b[0;36m_build\u001b[0;34m(self)\u001b[0m\n\u001b[1;32m     65\u001b[0m         \u001b[0;34m\"\"\"Build the docker image. \"\"\"\u001b[0m\u001b[0;34m\u001b[0m\u001b[0;34m\u001b[0m\u001b[0m\n\u001b[1;32m     66\u001b[0m         \u001b[0mlogging\u001b[0m\u001b[0;34m.\u001b[0m\u001b[0minfo\u001b[0m\u001b[0;34m(\u001b[0m\u001b[0;34m\"Building the docker image.\"\u001b[0m\u001b[0;34m)\u001b[0m\u001b[0;34m\u001b[0m\u001b[0;34m\u001b[0m\u001b[0m\n\u001b[0;32m---> 67\u001b[0;31m         \u001b[0mself\u001b[0m\u001b[0;34m.\u001b[0m\u001b[0mbuilder\u001b[0m\u001b[0;34m.\u001b[0m\u001b[0mbuild\u001b[0m\u001b[0;34m(\u001b[0m\u001b[0;34m)\u001b[0m\u001b[0;34m\u001b[0m\u001b[0;34m\u001b[0m\u001b[0m\n\u001b[0m\u001b[1;32m     68\u001b[0m         \u001b[0mself\u001b[0m\u001b[0;34m.\u001b[0m\u001b[0mpod_spec\u001b[0m \u001b[0;34m=\u001b[0m \u001b[0mself\u001b[0m\u001b[0;34m.\u001b[0m\u001b[0mbuilder\u001b[0m\u001b[0;34m.\u001b[0m\u001b[0mgenerate_pod_spec\u001b[0m\u001b[0;34m(\u001b[0m\u001b[0;34m)\u001b[0m\u001b[0;34m\u001b[0m\u001b[0;34m\u001b[0m\u001b[0m\n\u001b[1;32m     69\u001b[0m \u001b[0;34m\u001b[0m\u001b[0m\n",
      "\u001b[0;32m/opt/conda/lib/python3.6/site-packages/kubeflow/fairing/builders/cluster/cluster.py\u001b[0m in \u001b[0;36mbuild\u001b[0;34m(self)\u001b[0m\n\u001b[1;32m     57\u001b[0m         \u001b[0mcontext_path\u001b[0m\u001b[0;34m,\u001b[0m \u001b[0mcontext_hash\u001b[0m \u001b[0;34m=\u001b[0m \u001b[0mself\u001b[0m\u001b[0;34m.\u001b[0m\u001b[0mpreprocessor\u001b[0m\u001b[0;34m.\u001b[0m\u001b[0mcontext_tar_gz\u001b[0m\u001b[0;34m(\u001b[0m\u001b[0;34m)\u001b[0m\u001b[0;34m\u001b[0m\u001b[0;34m\u001b[0m\u001b[0m\n\u001b[1;32m     58\u001b[0m         \u001b[0mself\u001b[0m\u001b[0;34m.\u001b[0m\u001b[0mimage_tag\u001b[0m \u001b[0;34m=\u001b[0m \u001b[0mself\u001b[0m\u001b[0;34m.\u001b[0m\u001b[0mfull_image_name\u001b[0m\u001b[0;34m(\u001b[0m\u001b[0mcontext_hash\u001b[0m\u001b[0;34m)\u001b[0m\u001b[0;34m\u001b[0m\u001b[0;34m\u001b[0m\u001b[0m\n\u001b[0;32m---> 59\u001b[0;31m         \u001b[0mself\u001b[0m\u001b[0;34m.\u001b[0m\u001b[0mcontext_source\u001b[0m\u001b[0;34m.\u001b[0m\u001b[0mprepare\u001b[0m\u001b[0;34m(\u001b[0m\u001b[0mcontext_path\u001b[0m\u001b[0;34m)\u001b[0m\u001b[0;34m\u001b[0m\u001b[0;34m\u001b[0m\u001b[0m\n\u001b[0m\u001b[1;32m     60\u001b[0m         \u001b[0mlabels\u001b[0m \u001b[0;34m=\u001b[0m \u001b[0;34m{\u001b[0m\u001b[0;34m'fairing-builder'\u001b[0m\u001b[0;34m:\u001b[0m \u001b[0;34m'kaniko'\u001b[0m\u001b[0;34m}\u001b[0m\u001b[0;34m\u001b[0m\u001b[0;34m\u001b[0m\u001b[0m\n\u001b[1;32m     61\u001b[0m         \u001b[0mlabels\u001b[0m\u001b[0;34m[\u001b[0m\u001b[0;34m'fairing-build-id'\u001b[0m\u001b[0;34m]\u001b[0m \u001b[0;34m=\u001b[0m \u001b[0mstr\u001b[0m\u001b[0;34m(\u001b[0m\u001b[0muuid\u001b[0m\u001b[0;34m.\u001b[0m\u001b[0muuid1\u001b[0m\u001b[0;34m(\u001b[0m\u001b[0;34m)\u001b[0m\u001b[0;34m)\u001b[0m\u001b[0;34m\u001b[0m\u001b[0;34m\u001b[0m\u001b[0m\n",
      "\u001b[0;32m/opt/conda/lib/python3.6/site-packages/kubeflow/fairing/builders/cluster/s3_context.py\u001b[0m in \u001b[0;36mprepare\u001b[0;34m(self, context_filename)\u001b[0m\n\u001b[1;32m     25\u001b[0m         \u001b[0;32mif\u001b[0m \u001b[0mself\u001b[0m\u001b[0;34m.\u001b[0m\u001b[0maws_account\u001b[0m \u001b[0;32mis\u001b[0m \u001b[0;32mNone\u001b[0m\u001b[0;34m:\u001b[0m\u001b[0;34m\u001b[0m\u001b[0;34m\u001b[0m\u001b[0m\n\u001b[1;32m     26\u001b[0m             \u001b[0mself\u001b[0m\u001b[0;34m.\u001b[0m\u001b[0maws_account\u001b[0m \u001b[0;34m=\u001b[0m \u001b[0maws\u001b[0m\u001b[0;34m.\u001b[0m\u001b[0mguess_account_id\u001b[0m\u001b[0;34m(\u001b[0m\u001b[0;34m)\u001b[0m\u001b[0;34m\u001b[0m\u001b[0;34m\u001b[0m\u001b[0m\n\u001b[0;32m---> 27\u001b[0;31m         \u001b[0mself\u001b[0m\u001b[0;34m.\u001b[0m\u001b[0muploaded_context_url\u001b[0m \u001b[0;34m=\u001b[0m \u001b[0mself\u001b[0m\u001b[0;34m.\u001b[0m\u001b[0mupload_context\u001b[0m\u001b[0;34m(\u001b[0m\u001b[0mcontext_filename\u001b[0m\u001b[0;34m)\u001b[0m\u001b[0;34m\u001b[0m\u001b[0;34m\u001b[0m\u001b[0m\n\u001b[0m\u001b[1;32m     28\u001b[0m \u001b[0;34m\u001b[0m\u001b[0m\n\u001b[1;32m     29\u001b[0m     \u001b[0;32mdef\u001b[0m \u001b[0mupload_context\u001b[0m\u001b[0;34m(\u001b[0m\u001b[0mself\u001b[0m\u001b[0;34m,\u001b[0m \u001b[0mcontext_filename\u001b[0m\u001b[0;34m)\u001b[0m\u001b[0;34m:\u001b[0m\u001b[0;34m\u001b[0m\u001b[0;34m\u001b[0m\u001b[0m\n",
      "\u001b[0;32m/opt/conda/lib/python3.6/site-packages/kubeflow/fairing/builders/cluster/s3_context.py\u001b[0m in \u001b[0;36mupload_context\u001b[0;34m(self, context_filename)\u001b[0m\n\u001b[1;32m     39\u001b[0m         return s3_uploader.upload_to_bucket(bucket_name=bucket_name,\n\u001b[1;32m     40\u001b[0m                                             \u001b[0mblob_name\u001b[0m\u001b[0;34m=\u001b[0m\u001b[0;34m'fairing_builds/'\u001b[0m \u001b[0;34m+\u001b[0m \u001b[0mcontext_hash\u001b[0m\u001b[0;34m,\u001b[0m\u001b[0;34m\u001b[0m\u001b[0;34m\u001b[0m\u001b[0m\n\u001b[0;32m---> 41\u001b[0;31m                                             file_to_upload=context_filename)\n\u001b[0m\u001b[1;32m     42\u001b[0m \u001b[0;34m\u001b[0m\u001b[0m\n\u001b[1;32m     43\u001b[0m     \u001b[0;32mdef\u001b[0m \u001b[0mcleanup\u001b[0m\u001b[0;34m(\u001b[0m\u001b[0mself\u001b[0m\u001b[0;34m)\u001b[0m\u001b[0;34m:\u001b[0m\u001b[0;34m\u001b[0m\u001b[0;34m\u001b[0m\u001b[0m\n",
      "\u001b[0;32m/opt/conda/lib/python3.6/site-packages/kubeflow/fairing/cloud/aws.py\u001b[0m in \u001b[0;36mupload_to_bucket\u001b[0;34m(self, blob_name, bucket_name, file_to_upload)\u001b[0m\n\u001b[1;32m     26\u001b[0m \u001b[0;34m\u001b[0m\u001b[0m\n\u001b[1;32m     27\u001b[0m         \"\"\"\n\u001b[0;32m---> 28\u001b[0;31m         \u001b[0mself\u001b[0m\u001b[0;34m.\u001b[0m\u001b[0mcreate_bucket_if_not_exists\u001b[0m\u001b[0;34m(\u001b[0m\u001b[0mbucket_name\u001b[0m\u001b[0;34m)\u001b[0m\u001b[0;34m\u001b[0m\u001b[0;34m\u001b[0m\u001b[0m\n\u001b[0m\u001b[1;32m     29\u001b[0m         \u001b[0mself\u001b[0m\u001b[0;34m.\u001b[0m\u001b[0mstorage_client\u001b[0m\u001b[0;34m.\u001b[0m\u001b[0mupload_file\u001b[0m\u001b[0;34m(\u001b[0m\u001b[0mfile_to_upload\u001b[0m\u001b[0;34m,\u001b[0m \u001b[0mbucket_name\u001b[0m\u001b[0;34m,\u001b[0m \u001b[0mblob_name\u001b[0m\u001b[0;34m)\u001b[0m\u001b[0;34m\u001b[0m\u001b[0;34m\u001b[0m\u001b[0m\n\u001b[1;32m     30\u001b[0m         \u001b[0;32mreturn\u001b[0m \u001b[0;34m\"s3://{}/{}\"\u001b[0m\u001b[0;34m.\u001b[0m\u001b[0mformat\u001b[0m\u001b[0;34m(\u001b[0m\u001b[0mbucket_name\u001b[0m\u001b[0;34m,\u001b[0m \u001b[0mblob_name\u001b[0m\u001b[0;34m)\u001b[0m\u001b[0;34m\u001b[0m\u001b[0;34m\u001b[0m\u001b[0m\n",
      "\u001b[0;32m/opt/conda/lib/python3.6/site-packages/kubeflow/fairing/cloud/aws.py\u001b[0m in \u001b[0;36mcreate_bucket_if_not_exists\u001b[0;34m(self, bucket_name)\u001b[0m\n\u001b[1;32m     42\u001b[0m             \u001b[0;32mif\u001b[0m \u001b[0mself\u001b[0m\u001b[0;34m.\u001b[0m\u001b[0mregion\u001b[0m \u001b[0;34m!=\u001b[0m \u001b[0;34m'us-east-1'\u001b[0m\u001b[0;34m:\u001b[0m\u001b[0;34m\u001b[0m\u001b[0;34m\u001b[0m\u001b[0m\n\u001b[1;32m     43\u001b[0m                 \u001b[0mbucket\u001b[0m\u001b[0;34m[\u001b[0m\u001b[0;34m'CreateBucketConfiguration'\u001b[0m\u001b[0;34m]\u001b[0m \u001b[0;34m=\u001b[0m \u001b[0;34m{\u001b[0m\u001b[0;34m'LocationConstraint'\u001b[0m\u001b[0;34m:\u001b[0m \u001b[0mself\u001b[0m\u001b[0;34m.\u001b[0m\u001b[0mregion\u001b[0m\u001b[0;34m}\u001b[0m\u001b[0;34m\u001b[0m\u001b[0;34m\u001b[0m\u001b[0m\n\u001b[0;32m---> 44\u001b[0;31m             \u001b[0mself\u001b[0m\u001b[0;34m.\u001b[0m\u001b[0mstorage_client\u001b[0m\u001b[0;34m.\u001b[0m\u001b[0mcreate_bucket\u001b[0m\u001b[0;34m(\u001b[0m\u001b[0;34m**\u001b[0m\u001b[0mbucket\u001b[0m\u001b[0;34m)\u001b[0m\u001b[0;34m\u001b[0m\u001b[0;34m\u001b[0m\u001b[0m\n\u001b[0m\u001b[1;32m     45\u001b[0m \u001b[0;34m\u001b[0m\u001b[0m\n\u001b[1;32m     46\u001b[0m \u001b[0;34m\u001b[0m\u001b[0m\n",
      "\u001b[0;32m/opt/conda/lib/python3.6/site-packages/botocore/client.py\u001b[0m in \u001b[0;36m_api_call\u001b[0;34m(self, *args, **kwargs)\u001b[0m\n\u001b[1;32m    274\u001b[0m                     \"%s() only accepts keyword arguments.\" % py_operation_name)\n\u001b[1;32m    275\u001b[0m             \u001b[0;31m# The \"self\" in this scope is referring to the BaseClient.\u001b[0m\u001b[0;34m\u001b[0m\u001b[0;34m\u001b[0m\u001b[0;34m\u001b[0m\u001b[0m\n\u001b[0;32m--> 276\u001b[0;31m             \u001b[0;32mreturn\u001b[0m \u001b[0mself\u001b[0m\u001b[0;34m.\u001b[0m\u001b[0m_make_api_call\u001b[0m\u001b[0;34m(\u001b[0m\u001b[0moperation_name\u001b[0m\u001b[0;34m,\u001b[0m \u001b[0mkwargs\u001b[0m\u001b[0;34m)\u001b[0m\u001b[0;34m\u001b[0m\u001b[0;34m\u001b[0m\u001b[0m\n\u001b[0m\u001b[1;32m    277\u001b[0m \u001b[0;34m\u001b[0m\u001b[0m\n\u001b[1;32m    278\u001b[0m         \u001b[0m_api_call\u001b[0m\u001b[0;34m.\u001b[0m\u001b[0m__name__\u001b[0m \u001b[0;34m=\u001b[0m \u001b[0mstr\u001b[0m\u001b[0;34m(\u001b[0m\u001b[0mpy_operation_name\u001b[0m\u001b[0;34m)\u001b[0m\u001b[0;34m\u001b[0m\u001b[0;34m\u001b[0m\u001b[0m\n",
      "\u001b[0;32m/opt/conda/lib/python3.6/site-packages/botocore/client.py\u001b[0m in \u001b[0;36m_make_api_call\u001b[0;34m(self, operation_name, api_params)\u001b[0m\n\u001b[1;32m    584\u001b[0m             \u001b[0merror_code\u001b[0m \u001b[0;34m=\u001b[0m \u001b[0mparsed_response\u001b[0m\u001b[0;34m.\u001b[0m\u001b[0mget\u001b[0m\u001b[0;34m(\u001b[0m\u001b[0;34m\"Error\"\u001b[0m\u001b[0;34m,\u001b[0m \u001b[0;34m{\u001b[0m\u001b[0;34m}\u001b[0m\u001b[0;34m)\u001b[0m\u001b[0;34m.\u001b[0m\u001b[0mget\u001b[0m\u001b[0;34m(\u001b[0m\u001b[0;34m\"Code\"\u001b[0m\u001b[0;34m)\u001b[0m\u001b[0;34m\u001b[0m\u001b[0;34m\u001b[0m\u001b[0m\n\u001b[1;32m    585\u001b[0m             \u001b[0merror_class\u001b[0m \u001b[0;34m=\u001b[0m \u001b[0mself\u001b[0m\u001b[0;34m.\u001b[0m\u001b[0mexceptions\u001b[0m\u001b[0;34m.\u001b[0m\u001b[0mfrom_code\u001b[0m\u001b[0;34m(\u001b[0m\u001b[0merror_code\u001b[0m\u001b[0;34m)\u001b[0m\u001b[0;34m\u001b[0m\u001b[0;34m\u001b[0m\u001b[0m\n\u001b[0;32m--> 586\u001b[0;31m             \u001b[0;32mraise\u001b[0m \u001b[0merror_class\u001b[0m\u001b[0;34m(\u001b[0m\u001b[0mparsed_response\u001b[0m\u001b[0;34m,\u001b[0m \u001b[0moperation_name\u001b[0m\u001b[0;34m)\u001b[0m\u001b[0;34m\u001b[0m\u001b[0;34m\u001b[0m\u001b[0m\n\u001b[0m\u001b[1;32m    587\u001b[0m         \u001b[0;32melse\u001b[0m\u001b[0;34m:\u001b[0m\u001b[0;34m\u001b[0m\u001b[0;34m\u001b[0m\u001b[0m\n\u001b[1;32m    588\u001b[0m             \u001b[0;32mreturn\u001b[0m \u001b[0mparsed_response\u001b[0m\u001b[0;34m\u001b[0m\u001b[0;34m\u001b[0m\u001b[0m\n",
      "\u001b[0;31mBucketAlreadyExists\u001b[0m: An error occurred (BucketAlreadyExists) when calling the CreateBucket operation: The requested bucket name is not available. The bucket namespace is shared by all users of the system. Please select a different name and try again."
     ]
    }
   ],
   "source": [
    "from kubeflow.fairing import TrainJob\n",
    "train_job = TrainJob(HousingServe, input_files=['ames_dataset/train.csv', \"requirements.txt\"],\n",
    "                     docker_registry=DOCKER_REGISTRY,\n",
    "                     backend=BackendClass(build_context_source=BuildContext))\n",
    "train_job.submit()"
   ]
  },
  {
   "cell_type": "markdown",
   "metadata": {},
   "source": [
    "### Deploy the trained model to Kubeflow for predictions\n",
    "\n",
    "Import the `PredictionEndpoint` and use the configured backend class. Kubeflow Fairing packages the `HousingServe` class, the trained model, and the prediction endpoint's software prerequisites as a Docker image. Then Kubeflow Fairing deploys and runs the prediction endpoint on Kubeflow."
   ]
  },
  {
   "cell_type": "code",
   "execution_count": null,
   "metadata": {},
   "outputs": [],
   "source": [
    "from kubeflow.fairing import PredictionEndpoint\n",
    "endpoint = PredictionEndpoint(HousingServe, input_files=['trained_ames_model.dat', \"requirements.txt\"],\n",
    "                              docker_registry=DOCKER_REGISTRY,\n",
    "                              service_type='ClusterIP',\n",
    "                              backend=BackendClass(build_context_source=BuildContext))\n",
    "endpoint.create()"
   ]
  },
  {
   "cell_type": "markdown",
   "metadata": {},
   "source": [
    "### Call the prediction endpoint\n",
    "Create a test dataset, then call the endpoint on Kubeflow for predictions."
   ]
  },
  {
   "cell_type": "code",
   "execution_count": null,
   "metadata": {},
   "outputs": [],
   "source": [
    "# Get sample data and query endpoint\n",
    "(train_X, train_y), (test_X, test_y) = read_input(\"ames_dataset/train.csv\")"
   ]
  },
  {
   "cell_type": "markdown",
   "metadata": {},
   "source": [
    "**Wait for the service to start and replace `<endpoint>` with the output from last step.**"
   ]
  },
  {
   "cell_type": "code",
   "execution_count": null,
   "metadata": {},
   "outputs": [],
   "source": [
    "# PR https://github.com/kubeflow/fairing/pull/376\n",
    "# Add `:5000/predict` to mitigate the issue.\n",
    "\n",
    "#################\n",
    "endpoint.url='<endpoint-from-previous-st3ep>/predict'\n",
    "#################\n",
    "\n",
    "endpoint.predict_nparray(test_X)"
   ]
  },
  {
   "cell_type": "markdown",
   "metadata": {},
   "source": [
    "### Clean up the prediction endpoint\n",
    "Delete the prediction endpoint created by this notebook."
   ]
  },
  {
   "cell_type": "code",
   "execution_count": null,
   "metadata": {},
   "outputs": [],
   "source": [
    "endpoint.delete()"
   ]
  },
  {
   "cell_type": "code",
   "execution_count": null,
   "metadata": {},
   "outputs": [],
   "source": []
  }
 ],
 "metadata": {
  "kernelspec": {
   "display_name": "Python 3",
   "language": "python",
   "name": "python3"
  },
  "language_info": {
   "codemirror_mode": {
    "name": "ipython",
    "version": 3
   },
   "file_extension": ".py",
   "mimetype": "text/x-python",
   "name": "python",
   "nbconvert_exporter": "python",
   "pygments_lexer": "ipython3",
   "version": "3.6.8"
  }
 },
 "nbformat": 4,
 "nbformat_minor": 2
}
